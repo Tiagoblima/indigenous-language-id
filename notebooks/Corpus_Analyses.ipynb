{
  "nbformat": 4,
  "nbformat_minor": 0,
  "metadata": {
    "colab": {
      "name": "Corpus Analyses.ipynb",
      "provenance": [],
      "collapsed_sections": [],
      "toc_visible": true
    },
    "kernelspec": {
      "name": "python3",
      "display_name": "Python 3"
    }
  },
  "cells": [
    {
      "cell_type": "markdown",
      "metadata": {
        "id": "WtufiHwMBV_6"
      },
      "source": [
        "## Load Language Dataset Classification DataFrame\r\n",
        "\r\n",
        "Here, we load a multi-language classification dataset. It was build using 26 version of the Bible each one of them coreresponding to a specific indigenous languages. Also, there is one version of the Portuguese. Therefore, the dataset consist of the more than 162 thousand of verses from the bible. "
      ]
    },
    {
      "cell_type": "code",
      "metadata": {
        "id": "ITeYxrpjwsed"
      },
      "source": [
        "import unicodedata\r\n",
        "import re\r\n",
        "import pandas as pd\r\n",
        "import numpy as np"
      ],
      "execution_count": null,
      "outputs": []
    },
    {
      "cell_type": "code",
      "metadata": {
        "id": "vd0624bYcYSF"
      },
      "source": [
        "# Each document is a verse\r\n",
        "\r\n",
        "def preprocess_corpora(df, classes_, n_samples=1000):\r\n",
        "  \r\n",
        "  frames = []\r\n",
        "  for lang in classes_:\r\n",
        "    frames.append(df[df['LANG']==lang].sample(n=n_samples)[['TEXT', 'LANG']])\r\n",
        "\r\n",
        "  return pd.concat(frames).reset_index().sample(frac=1)"
      ],
      "execution_count": null,
      "outputs": []
    },
    {
      "cell_type": "code",
      "metadata": {
        "id": "Q3ItrxNrXJ4P"
      },
      "source": [
        "\r\n",
        "# Converts the unicode file to ascii\r\n",
        "def unicode_to_ascii(s):\r\n",
        "    return ''.join(c for c in unicodedata.normalize('NFD', s)\r\n",
        "                   if unicodedata.category(c) != 'Mn')\r\n",
        "\r\n",
        "\r\n",
        "def preprocess_sentence(w):\r\n",
        "    w = unicode_to_ascii(w.strip().lower())\r\n",
        "\r\n",
        "    # creating a space between a word and the punctuation following it eg: \"he is a boy.\" => \"he is a boy .\"\r\n",
        "    # Reference:- https://stackoverflow.com/questions/3645931/python-padding-punctuation-with-white-spaces-keeping\r\n",
        "    # -punctuation\r\n",
        "    w = re.sub(r\"([?.!,¿#@0-9])\", r\"\", w)\r\n",
        "\r\n",
        "    return w"
      ],
      "execution_count": null,
      "outputs": []
    },
    {
      "cell_type": "markdown",
      "metadata": {
        "id": "pkWPxXzRtlu_"
      },
      "source": [
        "#### Ploting Features from TF-IDF using T-SNE"
      ]
    },
    {
      "cell_type": "code",
      "metadata": {
        "id": "39-D1kRuPhcj"
      },
      "source": [
        "def adjust_lightness(color):\r\n",
        "    import matplotlib.colors as mc\r\n",
        "    import colorsys\r\n",
        "    try:\r\n",
        "        c = mc.cnames[color]\r\n",
        "    except:\r\n",
        "        c = color\r\n",
        "    c = colorsys.rgb_to_hls(*mc.to_rgb(c))\r\n",
        "    return colorsys.hls_to_rgb(c[0], max(0, min(1, 0.9 * c[1])), c[2])"
      ],
      "execution_count": null,
      "outputs": []
    },
    {
      "cell_type": "code",
      "metadata": {
        "id": "chaQ9uUpUBnm"
      },
      "source": [
        "get_color_name = lambda rgba: matplotlib.colors.to_hex(rgba)"
      ],
      "execution_count": null,
      "outputs": []
    },
    {
      "cell_type": "code",
      "metadata": {
        "id": "Y-P6Zv-IGH9W"
      },
      "source": [
        "bible_corpus = pd.read_csv('https://github.com/Tiagoblima/indigenous-corpus/raw/main/indigenous_cls.csv').replace('',np.nan).dropna()"
      ],
      "execution_count": null,
      "outputs": []
    },
    {
      "cell_type": "code",
      "metadata": {
        "id": "V_-iHPGXWuWJ"
      },
      "source": [
        "import random \r\n",
        "import matplotlib\r\n",
        "\r\n",
        "\r\n",
        "classes = np.unique(bible_corpus['LANG'].tolist())\r\n",
        "colors = random.sample(list(matplotlib.colors.cnames), k=27)\r\n",
        "bible_corpus = preprocess_corpora(bible_corpus, n_samples=10, classes_=classes)\r\n",
        "X = bible_corpus['TEXT'].apply(preprocess_sentence).to_numpy()\r\n",
        "\r\n",
        "mymap = dict(zip(classes, list(map(get_color_name, map(adjust_lightness, colors)) )))\r\n"
      ],
      "execution_count": null,
      "outputs": []
    },
    {
      "cell_type": "code",
      "metadata": {
        "id": "1xOPbYvNvGlN"
      },
      "source": [
        "from sklearn.pipeline import Pipeline\r\n",
        "from sklearn.preprocessing import MinMaxScaler\r\n",
        "from sklearn.feature_extraction.text import TfidfTransformer\r\n",
        "from sklearn.feature_extraction.text import CountVectorizer\r\n",
        "from sklearn.decomposition import PCA\r\n",
        "from sklearn.manifold import TSNE"
      ],
      "execution_count": null,
      "outputs": []
    },
    {
      "cell_type": "code",
      "metadata": {
        "id": "Jz625tr_VsUK",
        "colab": {
          "base_uri": "https://localhost:8080/"
        },
        "outputId": "59e99dff-5ab5-45c8-c67f-3cb3b7327040"
      },
      "source": [
        "\r\n",
        "pipe = Pipeline([\r\n",
        "                    ('vect', CountVectorizer(analyzer='char', ngram_range=(2,3))),\r\n",
        "                    ('tfidf', TfidfTransformer())\r\n",
        "\r\n",
        "                  ])  \r\n",
        "X_array =  pipe.fit_transform(X).toarray()\r\n",
        "print(X_array.shape)\r\n",
        "X_embedded = TSNE(n_components=2).fit_transform(X_array)"
      ],
      "execution_count": null,
      "outputs": [
        {
          "output_type": "stream",
          "text": [
            "(270, 6782)\n"
          ],
          "name": "stdout"
        }
      ]
    },
    {
      "cell_type": "code",
      "metadata": {
        "id": "daPfr8kGXS0j"
      },
      "source": [
        "df = pd.DataFrame(X_embedded, columns=['PCA1', 'PCA2'])\r\n",
        "df['Language'] = bible_corpus['LANG'].tolist()\r\n",
        "groups = df.groupby('Language')\r\n"
      ],
      "execution_count": null,
      "outputs": []
    },
    {
      "cell_type": "code",
      "metadata": {
        "id": "su-Z_RBn2ttk"
      },
      "source": [
        "import matplotlib.pyplot as plt"
      ],
      "execution_count": null,
      "outputs": []
    },
    {
      "cell_type": "code",
      "metadata": {
        "colab": {
          "base_uri": "https://localhost:8080/",
          "height": 485
        },
        "id": "7ICvswHFVz-T",
        "outputId": "3dda047a-0fa3-4c77-c6b1-994008be2152"
      },
      "source": [
        "\r\n",
        "\r\n",
        "fig, ax = plt.subplots()\r\n",
        "for group in groups:    \r\n",
        "\r\n",
        "    pca1, pca2 = group[1].loc[:,'PCA1'], group[1].loc[:,'PCA2']\r\n",
        "\r\n",
        "\r\n",
        "    ax.scatter(pca1, pca2, c=mymap[group[0]], label=group[0],\r\n",
        "               alpha=0.8, edgecolors='none')\r\n",
        "\r\n",
        "ax.legend(loc='lower center', bbox_to_anchor=(0.5, -0.9),\r\n",
        "          ncol=3, fancybox=True, shadow=True)\r\n",
        "fig.suptitle('Language Visualization')"
      ],
      "execution_count": null,
      "outputs": [
        {
          "output_type": "execute_result",
          "data": {
            "text/plain": [
              "Text(0.5, 0.98, 'Language Visualization')"
            ]
          },
          "metadata": {
            "tags": []
          },
          "execution_count": 52
        },
        {
          "output_type": "display_data",
          "data": {
            "image/png": "[encoded data removed]",
            "text/plain": [
              "<Figure size 432x288 with 1 Axes>"
            ]
          },
          "metadata": {
            "tags": [],
            "needs_background": "light"
          }
        }
      ]
    },
    {
      "cell_type": "code",
      "metadata": {
        "id": "PgkJ3QSisbyL"
      },
      "source": [
        "bible_corpus = pd.read_csv('https://github.com/Tiagoblima/indigenous-corpus/raw/main/indigenous_cls.csv').replace('',np.nan).dropna()\r\n",
        "bible_corpus['TEXT'] =  bible_corpus['TEXT'].apply(preprocess_sentence)\r\n",
        "\r\n",
        "classes = np.unique(bible_corpus['LANG'].tolist())\r\n",
        "bible_corpus = preprocess_corpora(bible_corpus, n_samples=1, classes_=classes)\r\n",
        "X = bible_corpus['TEXT'].to_numpy()"
      ],
      "execution_count": null,
      "outputs": []
    },
    {
      "cell_type": "code",
      "metadata": {
        "id": "qW34XctmtQ4d"
      },
      "source": [
        "from nltk import ngrams\r\n",
        "\r\n",
        "def get_ngrams(sent):\r\n",
        "  return np.array(list(enumerate(map(''.join, ngrams(sent, 3)))), dtype=str)"
      ],
      "execution_count": null,
      "outputs": []
    },
    {
      "cell_type": "markdown",
      "metadata": {
        "id": "gBquoffDsPJF"
      },
      "source": [
        "#### Building Training Dataset"
      ]
    },
    {
      "cell_type": "code",
      "metadata": {
        "id": "mc5578HX1r3T"
      },
      "source": [
        "bible_corpus = pd.read_csv('https://github.com/Tiagoblima/indigenous-corpus/raw/main/indigenous_cls.csv').replace('',np.nan).dropna()\r\n"
      ],
      "execution_count": null,
      "outputs": []
    },
    {
      "cell_type": "code",
      "metadata": {
        "id": "znJfyWkjwt5b"
      },
      "source": [
        "bible_corpus['TEXT'] =  bible_corpus['TEXT'].apply(preprocess_sentence)\r\n",
        "classes = np.unique(bible_corpus['LANG'].tolist())\r\n",
        "bible_corpus = preprocess_corpora(bible_corpus, n_samples=10, classes_=classes)\r\n",
        "X = bible_corpus['TEXT'].to_numpy()"
      ],
      "execution_count": null,
      "outputs": []
    },
    {
      "cell_type": "code",
      "metadata": {
        "id": "YOjbGLSvpcG2"
      },
      "source": [
        "os.mkdir('data')"
      ],
      "execution_count": null,
      "outputs": []
    },
    {
      "cell_type": "code",
      "metadata": {
        "id": "0tD2rQuR2rf5"
      },
      "source": [
        "from sklearn.model_selection import ShuffleSplit\r\n",
        "from sklearn.model_selection import train_test_split\r\n",
        "import os "
      ],
      "execution_count": null,
      "outputs": []
    },
    {
      "cell_type": "code",
      "metadata": {
        "id": "yJv1S3kUwzTO"
      },
      "source": [
        "experiments = []\r\n",
        "\r\n",
        "#### Diferent Test Folds\r\n",
        "for n in range(1, 11):\r\n",
        "  rs = ShuffleSplit(n_splits=5, test_size=.2, random_state=22)\r\n",
        "  os.mkdir('data/dataset'+str(n))\r\n",
        "  for i,index in enumerate(rs.split(X),1):\r\n",
        "    train_index, test_index = index\r\n",
        "    train_df = bible_corpus.iloc[train_index]\r\n",
        "    train_df = preprocess_corpora(train_df, classes, n_samples=n)\r\n",
        "    train_df.to_csv(os.path.join('data/dataset'+str(n), 'train_'+str(i)+'.csv'), index=False, index_label=False)\r\n",
        "    test_df = bible_corpus.iloc[test_index]\r\n",
        "    test_df.to_csv(os.path.join('data/dataset'+str(n),'test_'+str(i)+'.csv'), index=False, index_label=False)"
      ],
      "execution_count": null,
      "outputs": []
    },
    {
      "cell_type": "code",
      "metadata": {
        "colab": {
          "base_uri": "https://localhost:8080/"
        },
        "id": "jsy66tDo1sdR",
        "outputId": "0563e8fc-e9ec-4d3b-810f-d48ccc19744f"
      },
      "source": [
        "lang_cls_large = pd.read_csv('https://github.com/Tiagoblima/indigenous-corpus/raw/main/lang_cls_large.csv').replace('',np.nan).dropna()\r\n",
        "lang_cls_large.shape"
      ],
      "execution_count": null,
      "outputs": [
        {
          "output_type": "execute_result",
          "data": {
            "text/plain": [
              "(85252, 3)"
            ]
          },
          "metadata": {
            "tags": []
          },
          "execution_count": 89
        }
      ]
    },
    {
      "cell_type": "code",
      "metadata": {
        "id": "3kcUyYKzfB3V"
      },
      "source": [
        "bible_corpus = pd.read_csv('https://github.com/Tiagoblima/indigenous-corpus/raw/main/indigenous_cls.csv').replace('',np.nan).dropna()\r\n",
        "bible_corpus['TEXT'] =  bible_corpus['TEXT'].apply(preprocess_sentence)\r\n",
        "\r\n",
        "classes = np.unique(bible_corpus['LANG'].tolist())\r\n",
        "bible_corpus = preprocess_corpora(bible_corpus, n_samples=1000, classes_=classes)\r\n",
        "X = bible_corpus['TEXT'].to_numpy()"
      ],
      "execution_count": null,
      "outputs": []
    },
    {
      "cell_type": "code",
      "metadata": {
        "id": "uOMJC-gzMZJV",
        "colab": {
          "base_uri": "https://localhost:8080/",
          "height": 231
        },
        "outputId": "3d2a4d37-3830-4472-c15a-5a243fddebe7"
      },
      "source": [
        "from sklearn.model_selection import ShuffleSplit\r\n",
        "import os \r\n",
        "\r\n",
        "# Fixed Test Fold\r\n",
        "rs = ShuffleSplit(n_splits=1, test_size=.2, random_state=22)\r\n",
        "\r\n",
        "for index in rs.split(np.arange(0,lang_cls_large.shape[0])):\r\n",
        "  train_index, test_index = index\r\n",
        "\r\n",
        "  test_df = bible_corpus.iloc[test_index]\r\n",
        "  test_df.to_csv(os.path.join('data/test.csv'), index=False, index_label=False)\r\n",
        "  train_df = bible_corpus.iloc[train_index]\r\n",
        "\r\n",
        "for n in range(1, 11):\r\n",
        "  rs = ShuffleSplit(n_splits=5, test_size=.3, random_state=22)\r\n",
        "  os.mkdir('data/dataset'+str(n))\r\n",
        "  for i,index in enumerate(rs.split(X),1):\r\n",
        "   \r\n",
        "    val_df = preprocess_corpora(train_df, classes, n_samples=n)\r\n",
        "    val_df.to_csv(os.path.join('data/dataset'+str(n), 'train_'+str(i)+'.csv'), index=False, index_label=False)\r\n"
      ],
      "execution_count": null,
      "outputs": [
        {
          "output_type": "error",
          "ename": "NameError",
          "evalue": "ignored",
          "traceback": [
            "\u001b[0;31m---------------------------------------------------------------------------\u001b[0m",
            "\u001b[0;31mNameError\u001b[0m                                 Traceback (most recent call last)",
            "\u001b[0;32m<ipython-input-19-a1c881fb0a8f>\u001b[0m in \u001b[0;36m<module>\u001b[0;34m()\u001b[0m\n\u001b[1;32m      5\u001b[0m \u001b[0mrs\u001b[0m \u001b[0;34m=\u001b[0m \u001b[0mShuffleSplit\u001b[0m\u001b[0;34m(\u001b[0m\u001b[0mn_splits\u001b[0m\u001b[0;34m=\u001b[0m\u001b[0;36m1\u001b[0m\u001b[0;34m,\u001b[0m \u001b[0mtest_size\u001b[0m\u001b[0;34m=\u001b[0m\u001b[0;36m.2\u001b[0m\u001b[0;34m,\u001b[0m \u001b[0mrandom_state\u001b[0m\u001b[0;34m=\u001b[0m\u001b[0;36m22\u001b[0m\u001b[0;34m)\u001b[0m\u001b[0;34m\u001b[0m\u001b[0;34m\u001b[0m\u001b[0m\n\u001b[1;32m      6\u001b[0m \u001b[0;34m\u001b[0m\u001b[0m\n\u001b[0;32m----> 7\u001b[0;31m \u001b[0;32mfor\u001b[0m \u001b[0mindex\u001b[0m \u001b[0;32min\u001b[0m \u001b[0mrs\u001b[0m\u001b[0;34m.\u001b[0m\u001b[0msplit\u001b[0m\u001b[0;34m(\u001b[0m\u001b[0mnp\u001b[0m\u001b[0;34m.\u001b[0m\u001b[0marange\u001b[0m\u001b[0;34m(\u001b[0m\u001b[0;36m0\u001b[0m\u001b[0;34m,\u001b[0m\u001b[0mlang_cls_large\u001b[0m\u001b[0;34m.\u001b[0m\u001b[0mshape\u001b[0m\u001b[0;34m[\u001b[0m\u001b[0;36m0\u001b[0m\u001b[0;34m]\u001b[0m\u001b[0;34m)\u001b[0m\u001b[0;34m)\u001b[0m\u001b[0;34m:\u001b[0m\u001b[0;34m\u001b[0m\u001b[0;34m\u001b[0m\u001b[0m\n\u001b[0m\u001b[1;32m      8\u001b[0m   \u001b[0mtrain_index\u001b[0m\u001b[0;34m,\u001b[0m \u001b[0mtest_index\u001b[0m \u001b[0;34m=\u001b[0m \u001b[0mindex\u001b[0m\u001b[0;34m\u001b[0m\u001b[0;34m\u001b[0m\u001b[0m\n\u001b[1;32m      9\u001b[0m \u001b[0;34m\u001b[0m\u001b[0m\n",
            "\u001b[0;31mNameError\u001b[0m: name 'lang_cls_large' is not defined"
          ]
        }
      ]
    },
    {
      "cell_type": "code",
      "metadata": {
        "id": "8elsxMFaqLuH"
      },
      "source": [
        "!zip -r data.zip data\r\n",
        "from google.colab import files\r\n",
        "files.download('data.zip')"
      ],
      "execution_count": null,
      "outputs": []
    },
    {
      "cell_type": "code",
      "metadata": {
        "id": "ZUFR8FjyI58q"
      },
      "source": [
        "!sudo rm -r data "
      ],
      "execution_count": null,
      "outputs": []
    },
    {
      "cell_type": "code",
      "metadata": {
        "id": "2UQ48Hcjp7Yl"
      },
      "source": [
        "df = pd.read_csv('indigenous_aligned_text.csv').loc[[1], ].drop(columns=['Book', 'Chapter', 'Verse']).T"
      ],
      "execution_count": null,
      "outputs": []
    },
    {
      "cell_type": "code",
      "metadata": {
        "id": "5i6MF4rgtPng"
      },
      "source": [
        "from nltk import ngrams\r\n",
        "\r\n",
        "get_ngrams = lambda sentence: ', '.join(list(map(''.join,ngrams(sentence, 3)))).lower()\r\n"
      ],
      "execution_count": null,
      "outputs": []
    },
    {
      "cell_type": "code",
      "metadata": {
        "id": "TQcIP_lktb7p"
      },
      "source": [
        "get_ngrams('Hello World')"
      ],
      "execution_count": null,
      "outputs": []
    },
    {
      "cell_type": "code",
      "metadata": {
        "id": "fTRWkRCms0WD"
      },
      "source": [
        "df.columns = ['sentences']\r\n",
        "df['sentences'] = df['sentences'].apply(get_ngrams)\r\n",
        "open('text.txt','w').write(df.to_latex())"
      ],
      "execution_count": null,
      "outputs": []
    },
    {
      "cell_type": "markdown",
      "metadata": {
        "id": "sDBoBTZkt1A4"
      },
      "source": [
        "### Selecting Most Important Features "
      ]
    },
    {
      "cell_type": "code",
      "metadata": {
        "id": "OsjUGMSzt5C-"
      },
      "source": [
        "import pandas as pd\r\n",
        "import numpy as np\r\n",
        "from sklearn.ensemble.forest import RandomForestClassifier\r\n",
        "from sklearn.feature_selection import SelectFromModel\r\n",
        "from sklearn.model_selection import train_test_split\r\n"
      ],
      "execution_count": null,
      "outputs": []
    },
    {
      "cell_type": "code",
      "metadata": {
        "id": "AgxDJ4wFujkT"
      },
      "source": [
        "bible_corpus = pd.read_csv('https://github.com/Tiagoblima/indigenous-corpus/raw/main/indigenous_cls.csv').replace('',np.nan).dropna()\r\n",
        "bible_corpus['TEXT'] =  bible_corpus['TEXT'].apply(preprocess_sentence)\r\n",
        "classes = np.unique(bible_corpus['LANG'].tolist())\r\n",
        "bible_corpus = preprocess_corpora(bible_corpus, n_samples=1, classes_=classes)\r\n",
        "X = bible_corpus['TEXT'].to_numpy()\r\n",
        "y = bible_corpus['LANG'].to_numpy()"
      ],
      "execution_count": null,
      "outputs": []
    },
    {
      "cell_type": "markdown",
      "metadata": {
        "id": "2DTTa4DxDJGb"
      },
      "source": [
        "#### Selection from all N-grams"
      ]
    },
    {
      "cell_type": "code",
      "metadata": {
        "id": "v7NKcu_6zf8L"
      },
      "source": [
        "def get_importance(X, label):\r\n",
        "  count = CountVectorizer(analyzer='char', ngram_range=(2,3))\r\n",
        "  X_count = count.fit_transform(X)\r\n",
        "  tfidf = TfidfTransformer()\r\n",
        "  \r\n",
        "  X_array =  tfidf.fit_transform(X_count).toarray()\r\n",
        "  X_array.shape\r\n",
        "  sel = SelectFromModel(RandomForestClassifier(n_estimators = 10))\r\n",
        "  sel.fit(X_array,  label)\r\n",
        "  importance = np.take(X_array, sel.get_support().nonzero()[0], axis=1)\r\n",
        "  ngrams_feats = np.array(count.get_feature_names())\r\n",
        "  top_idx = np.take((-importance).argsort(), range(10), axis=1)\r\n",
        "  top_ngrams = np.take([count.get_feature_names()],top_idx, axis=1)\r\n",
        "  return top_ngrams.squeeze()"
      ],
      "execution_count": null,
      "outputs": []
    },
    {
      "cell_type": "code",
      "metadata": {
        "colab": {
          "base_uri": "https://localhost:8080/",
          "height": 171
        },
        "id": "60PpWvVa2VWR",
        "outputId": "17b262c7-462d-40f2-8177-acc7d952bc2a"
      },
      "source": [
        "pd.DataFrame(get_importance(X, y), index=classes).to_latex()"
      ],
      "execution_count": null,
      "outputs": [
        {
          "output_type": "execute_result",
          "data": {
            "application/vnd.google.colaboratory.intrinsic+json": {
              "type": "string"
            },
            "text/plain": [
              "\"\\\\begin{tabular}{lllllllllll}\\n\\\\toprule\\n{} &    0 &    1 &    2 &    3 &    4 &    5 &    6 &    7 &    8 &    9 \\\\\\\\\\n\\\\midrule\\nApalaí       &   bi &   my &   ju &   ao &   ae &   je &   is &   mb &   hy &   aa \\\\\\\\\\nApinayé      &   ao &   a  &   cr &   es &   ac &   e' &   lu &    ' &   er &   ge \\\\\\\\\\nApurinã      &   ao &   mr &   nx &   my &   mi &   nu &   e' &   'u &   bo &   bi \\\\\\\\\\nBakairi      &    g &   'r &   je &   ey &   kɨ &   ao &   hy &   a' &   kw &   ka \\\\\\\\\\nGuajajara    &   es &   aw &   ao &   av &   at &   nd &   ar &   em &   cr &    d \\\\\\\\\\nGuarani      &    k &   la &   le &   eh &    a &   it &   ip &    ' &   ge &   ia \\\\\\\\\\nKadiwéu      &   no &   ao &   da &   a² &   ky &   'm &   el &   aɡ &   ic &   aa \\\\\\\\\\nKagwahiva    &   aw &   es &   cr &   ao &   je &   et &   cu &    g &   aa &   mb \\\\\\\\\\nKaigáng      &   ao &   es &   nx &   ic &   a  &   iw &   ac &    a &   e' &   av \\\\\\\\\\nKaiwá        &   ao &    a &   ju &   ip &   ge &   ji &   mb &    j &   my &   fe \\\\\\\\\\nKarajá       &   ao &   im &   on &   ag &   e' &   be &   nꞌ &   e³ &   ak &   ab \\\\\\\\\\nKayabí       &   es &    a &   ab &   dꞌ &   go &   a  &   bo &   ca &   et &   el \\\\\\\\\\nMacushi      &   a  &    l &   ba &   ik &   aꞌ &   ac &   mb &   es &   ii &   ji \\\\\\\\\\nMaxakalí     &   iw &   es &   da &   an &    h &   en &   el &   hy &   ao &    d \\\\\\\\\\nMundurukú    &   ag &   ke &   ia &   o' &   ei &    g &   ae &   er &   ib &   na \\\\\\\\\\nNadëb        &   je &   ic &   ia &    a &   hk &   bo &   ao &   aj &   nɨ &   ju \\\\\\\\\\nNambikuára   &   iw &   ao &   ew &   ih &   is &   a  &   ia &   ic &   eu &   er \\\\\\\\\\nParecis      &   dy &   ac &   ao &   is &   oo &   iz &    g &   ky &    m &   by \\\\\\\\\\nPaumarí      &   iw &   ba &   di &   ia &   ao &   ic &   ho &   aɡ &   eu &   ih \\\\\\\\\\nPortuguese   &   is &   mb &   am &   je &   ge &   ao &   ag &    a &   es &   hy \\\\\\\\\\nRikbaktsa    &   a² &   oj &   ag &   ma &   nx &   mb &   om &   ex &    o &   ai \\\\\\\\\\nSateré-Mawé  &   ao &   hi &    f &   ih &   is &   dy &   nx &   je &    j &   i' \\\\\\\\\\nTerena       &   e' &   'u &   ku &   is &   a  &   ji &   nx &   el &   es &   ao \\\\\\\\\\nTukano       &   is &   ae &   ha &   es &   bi &    a &   e' &   a  &   ao &   ir \\\\\\\\\\nUrubu-Kaapor &   ik &   ac &   je &    b &   mb &   ob &   mɨ &   ja &    e &   be \\\\\\\\\\nXavánte      &   ao &   aꞌ &   ge &   es &   ki &   nx &   ag &   oh &   a³ &   id \\\\\\\\\\nkayapó       &   es &   da &   iw &   ao &   aw &   nx &   aj &   nd &   aa &   mb \\\\\\\\\\n\\\\bottomrule\\n\\\\end{tabular}\\n\""
            ]
          },
          "metadata": {
            "tags": []
          },
          "execution_count": 72
        }
      ]
    },
    {
      "cell_type": "markdown",
      "metadata": {
        "id": "J_-g-pn9DNDD"
      },
      "source": [
        "### Selection by each document"
      ]
    },
    {
      "cell_type": "code",
      "metadata": {
        "id": "-hcckbmrytR-"
      },
      "source": [
        "top_ngrams = []\r\n",
        "for i in range(27):\r\n",
        "  text = bible_corpus[bible_corpus['LANG']==classes[i]]['TEXT'].to_numpy()\r\n",
        "  top_ngrams.append(get_importance(text, [classes[i]]))\r\n",
        "  print(i)\r\n",
        "  print(classes[i], get_importance(text, [classes[i]]))"
      ],
      "execution_count": null,
      "outputs": []
    },
    {
      "cell_type": "code",
      "metadata": {
        "colab": {
          "base_uri": "https://localhost:8080/",
          "height": 171
        },
        "id": "Cwkq-WaHC4Xy",
        "outputId": "71aa8d47-faf1-4ecc-c4a7-cedce889073e"
      },
      "source": [
        "pd.DataFrame(np.array(top_ngrams), index=classes).to_latex()"
      ],
      "execution_count": null,
      "outputs": [
        {
          "output_type": "execute_result",
          "data": {
            "application/vnd.google.colaboratory.intrinsic+json": {
              "type": "string"
            },
            "text/plain": [
              "\"\\\\begin{tabular}{lllllllllll}\\n\\\\toprule\\n{} &   0 &    1 &    2 &    3 &    4 &    5 &    6 &    7 &    8 &    9 \\\\\\\\\\n\\\\midrule\\nApalaí       &  o  &   ar &   ro &   e  &   a  &   ko &   se &   ma &    k &  aro \\\\\\\\\\nApinayé      &  a  &   e  &    k &    m &   me &    a &   me &    n &   am &  me  \\\\\\\\\\nApurinã      &  i  &   ri &   a  &   ar &   ak &   ki &   ka &  ari &   at &  ri  \\\\\\\\\\nBakairi      &  a  &    i &   ry &  ymo &   ar &  ary &  una &   un &   mo &  ry  \\\\\\\\\\nGuajajara    &  he &   e  &  he  &    a &  ehe &   eh &   r  &  ar  &   ar &   aꞌ \\\\\\\\\\nGuarani      &  e  &   ꞌe &   i  &  ꞌe  &   aꞌ &  aꞌe &   a  &   ra &   nh &   te \\\\\\\\\\nKadiwéu      &   n &   ni &   ni &   di &   ig &   i  &   aɡ &   gi &   e  &  aɡa \\\\\\\\\\nKagwahiva    &  a  &   i  &  ga  &    p &   ga &   o  &   e' &   mb &   'g &   mo \\\\\\\\\\nKaigáng      &   t &   e  &   g  &   y  &   n  &   i  &   ja &    h &   ag &   ti \\\\\\\\\\nKaiwá        &  e  &   ha &    n &   nh &   an &   nd &  nha &   nh &  han &    v \\\\\\\\\\nKarajá       &  y  &    r &   my &   re &   e  &  my  &   he &    i &   em &  emy \\\\\\\\\\nKayabí       &  ra &   ar &   u  &   re &    a &   ar &  mu  &   mu &  ara &  ram \\\\\\\\\\nMacushi      &  ti &   iꞌ &   i  &   ar &   ri &   on &   ꞌ  &   ir &   n  &   mi \\\\\\\\\\nMaxakalí     &   t &   a  &    y &   op &    ' &   x  &   ha &   tu &  top &  a t \\\\\\\\\\nMundurukú    &  je &   ki &  kit &   it &  je: &  jeb &   m  &  m c &   mu &  muy \\\\\\\\\\nNadëb        &  a  &    h &   o  &    d &   do &   do &   ha &   ha &   aa &   oo \\\\\\\\\\nNambikuára   &  ²\\xad &   ³\\xad &   \\xad  &  a²\\xad &   a² &  ²\\xad  &   xa &  a³\\xad &   \\xadt &   a³ \\\\\\\\\\nParecis      &  a  &   ya &    h &  a h &   o  &   in &   ma &   ne &   iy &  iya \\\\\\\\\\nPaumarí      &  ni &   a  &   i  &   ha &   an &  ani &   va &   ah &  aha &   'a \\\\\\\\\\nPortuguese   &  o  &   a  &   e  &   ca &   do &  do  &   e  &    a &    e &  o e \\\\\\\\\\nRikbaktsa    &  a  &   sa &   ts &   zu &   ub &  uba &   ba &   o  &  sa  &  tsa \\\\\\\\\\nSateré-Mawé  &  ha &   i  &    e &    i &   at &   e  &    h &   ha &   t  &   a  \\\\\\\\\\nTerena       &  ko &   o  &   ne &   ik &   a  &  iko &   nu &  hik &   hi &   on \\\\\\\\\\nTukano       &  o  &  ho  &   e  &   ra &   a  &   ho &  ra  &   a' &  peo &   pe \\\\\\\\\\nUrubu-Kaapor &  uy &   ca &   na &   an &   ha &   qu &   ay &   ui &   i  &  qui \\\\\\\\\\nXavánte      &  a  &   i  &   si &    m &   ma &   hi &   ha &   e  &   ra &   ri \\\\\\\\\\nkayapó       &   a &    k &   a  &   ar &   e  &   am &   r  &   nh &   ja &   m  \\\\\\\\\\n\\\\bottomrule\\n\\\\end{tabular}\\n\""
            ]
          },
          "metadata": {
            "tags": []
          },
          "execution_count": 53
        }
      ]
    }
  ]
}